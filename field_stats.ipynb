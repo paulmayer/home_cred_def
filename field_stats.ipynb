{
 "cells": [
  {
   "cell_type": "code",
   "execution_count": 3,
   "metadata": {},
   "outputs": [],
   "source": [
    "data_dir=\"H:\\\\kaggle\\\\home_loans\\\\src\""
   ]
  },
  {
   "cell_type": "code",
   "execution_count": 4,
   "metadata": {},
   "outputs": [],
   "source": [
    "import os\n",
    "import csv\n",
    "import re\n",
    "from collections import namedtuple, defaultdict"
   ]
  },
  {
   "cell_type": "code",
   "execution_count": 44,
   "metadata": {},
   "outputs": [],
   "source": [
    "test_fn = os.path.join(data_dir, \"application_test.csv\")\n",
    "train_fn = os.path.join(data_dir, \"application_train.csv\")\n",
    "bureau_fn = os.path.join(data_dir, \"bureau.csv\")\n",
    "bureau_balance_fn = os.path.join(data_dir, \"bureau_balance.csv\")\n",
    "card_balance_fn = os.path.join(data_dir, \"credit_card_balance.csv\")\n",
    "instalment_payment_fn = os.path.join(data_dir, \"installments_payments.csv\")\n",
    "prev_app_fn = os.path.join(data_dir, \"previous_application.csv\")\n",
    "cash_balance_fn = os.path.join(data_dir, \"POS_CASH_balance.csv\")"
   ]
  },
  {
   "cell_type": "code",
   "execution_count": 45,
   "metadata": {},
   "outputs": [],
   "source": [
    "def get_values_non_numeric(fn, col_name):\n",
    "    bad_vals = set()\n",
    "    with open(fn, \"r\") as fp:\n",
    "        header = fp.readline().rstrip().split(\",\")\n",
    "        cpos = dict([c, i] for i, c in enumerate(header))\n",
    "        rdr = csv.reader(fp, delimiter=',', quotechar='\"')\n",
    "        for toks in rdr:\n",
    "            val = toks[cpos[col_name]]\n",
    "            try:\n",
    "                float(val)\n",
    "            except:\n",
    "                bad_vals.add(val)\n",
    "    return bad_vals\n",
    "\n",
    "FieldStats = namedtuple(\"FieldStats\", (\"dtype\", \"min_len\", \"max_len\", \"precision\", \"has_na\", \"levels\", \"max_value\", \"min_value\"))\n",
    "\n",
    "def collect_field_stats(fns):\n",
    "    ptrn = re.compile(\"^[+|-]?(?P<dec>[0-9]+)(\\.(?P<frac>[0-9]*))?(e[+|-]?(?P<exp>[0-9]+))?$\")\n",
    "    has_na = defaultdict(lambda: False)\n",
    "    min_len = defaultdict(lambda: float(\"inf\"))\n",
    "    max_len = defaultdict(lambda: 0)\n",
    "    max_value = defaultdict(lambda: 0)\n",
    "    min_value = defaultdict(lambda: float(\"inf\"))\n",
    "    precision = defaultdict(lambda: -1)\n",
    "    dtypes = defaultdict(lambda: \"int\")\n",
    "    levels = defaultdict(lambda: set())\n",
    "    ret = {}\n",
    "    \n",
    "    \n",
    "    for fn in fns:\n",
    "        with open(fn, \"r\") as fp:\n",
    "            rdr = csv.reader(fp, delimiter=',', quotechar='\"')\n",
    "            cols = list(next(rdr))\n",
    "            cpos = dict([c, i] for i, c in enumerate(cols))\n",
    "            for toks in rdr:\n",
    "                assert(len(toks) == len(cols))\n",
    "                for i, col in enumerate(cols):\n",
    "                    val = toks[i]\n",
    "                    lenval = len(val)\n",
    "                    if lenval < min_len[col]:\n",
    "                        min_len[col] = lenval\n",
    "                    if lenval > max_len[col]:\n",
    "                        max_len[col] = lenval\n",
    "                    if lenval == 0:\n",
    "                        has_na[col] = True\n",
    "                    else:\n",
    "                        try:\n",
    "                            int(val)\n",
    "                            if int(val) < min_value[col]:\n",
    "                                min_value[col] = int(val)\n",
    "                            if int(val) > max_value[col]:\n",
    "                                max_value[col] = int(val)\n",
    "                        except:\n",
    "                            if dtypes[col] == \"int\":\n",
    "                                dtypes[col] = \"float\"\n",
    "                            try:\n",
    "                                float(val)\n",
    "                                m = ptrn.match(val)\n",
    "                                dec = m.group(\"dec\") or \"\"\n",
    "                                frac = m.group(\"frac\") or \"\"\n",
    "                                exponent = m.group(\"exp\")\n",
    "                                if exponent:\n",
    "                                    assert(int(exponent) > 0)\n",
    "                                    exp_num = int(exponent)-1\n",
    "                                else:\n",
    "                                    exp_num = 0\n",
    "                                prec = len(dec) + len(frac) + exp_num\n",
    "                                if prec > precision[col]:\n",
    "                                    precision[col] = prec\n",
    "                                if float(val) < min_value[col]:\n",
    "                                    min_value[col] = float(val)\n",
    "                                if float(val) > max_value[col]:\n",
    "                                    max_value[col] = float(val)\n",
    "                            except Exception as e:\n",
    "                                if col == \"EXT_SOURCE_2\":\n",
    "                                    print(e, val, max_value[col], min_value[col])\n",
    "                                dtypes[col] = \"str\"\n",
    "                        levels[col].add(val)\n",
    "\n",
    "    for k in min_len.keys():\n",
    "        if dtypes[k] == \"str\":\n",
    "            vals = levels[k]\n",
    "        else:\n",
    "            vals = []\n",
    "        ret[k] = FieldStats(dtype=dtypes[k],\n",
    "                            min_len=min_len[k],\n",
    "                            max_len=max_len[k],\n",
    "                            precision=precision[k],\n",
    "                            has_na=has_na[k],\n",
    "                            levels=vals,\n",
    "                            max_value=max_value[k],\n",
    "                            min_value=min_value[k])\n",
    "    return ret\n",
    "            \n",
    "def get_col_names(fn):\n",
    "    with open(fn, \"r\") as fp:\n",
    "        rdr = csv.reader(fp, delimiter=',', quotechar='\"')\n",
    "        return next(rdr)"
   ]
  },
  {
   "cell_type": "code",
   "execution_count": 46,
   "metadata": {},
   "outputs": [
    {
     "data": {
      "text/plain": [
       "{''}"
      ]
     },
     "execution_count": 46,
     "metadata": {},
     "output_type": "execute_result"
    }
   ],
   "source": [
    "get_values_non_numeric(test_fn, \"EXT_SOURCE_2\")"
   ]
  },
  {
   "cell_type": "code",
   "execution_count": 64,
   "metadata": {},
   "outputs": [],
   "source": [
    "stats = collect_field_stats([cash_balance_fn])"
   ]
  },
  {
   "cell_type": "code",
   "execution_count": 65,
   "metadata": {},
   "outputs": [
    {
     "name": "stdout",
     "output_type": "stream",
     "text": [
      "sk_id_prev = Column(Integer)\n",
      "sk_id_curr = Column(Integer)\n",
      "months_balance = Column(Integer)\n",
      "cnt_instalment = Column(Float(precision=3, asdecimal=True))\n",
      "cnt_instalment_future = Column(Float(precision=3, asdecimal=True))\n",
      "name_contract_status = Column(String(21))\n",
      "sk_dpd = Column(Integer)\n",
      "sk_dpd_def = Column(Integer)\n"
     ]
    }
   ],
   "source": [
    "cols = get_col_names(cash_balance_fn)\n",
    "\n",
    "for col in cols:\n",
    "    if stats[col].dtype == \"str\":\n",
    "        print(col.lower(), \"=\", \"Column(String(%s))\" % stats[col].max_len)\n",
    "    elif stats[col].dtype == \"float\":\n",
    "        print(col.lower(), \"=\", \"Column(Float(precision=%s, asdecimal=True))\" % stats[col].precision)\n",
    "    elif stats[col].dtype == \"int\":\n",
    "        print(col.lower(), \"=\", \"Column(Integer)\")\n",
    "    else:\n",
    "        raise ValueError(\"Unknown type %s\", stats[col.dtype])\n",
    "    \n",
    "for col in cols:\n",
    "    if \"FLAG\" in col:\n",
    "        print('\"%s\": partial(convert_bool, true_value=\"1\", false_value=\"0\", missing_symbols=MISSING_VALS),' % col.lower())"
   ]
  },
  {
   "cell_type": "code",
   "execution_count": 57,
   "metadata": {},
   "outputs": [
    {
     "data": {
      "text/plain": [
       "{'0', '1', '2', '3', '4', '5', 'C', 'X'}"
      ]
     },
     "execution_count": 57,
     "metadata": {},
     "output_type": "execute_result"
    }
   ],
   "source": [
    "stats[\"STATUS\"].levels"
   ]
  },
  {
   "cell_type": "code",
   "execution_count": 11,
   "metadata": {},
   "outputs": [
    {
     "data": {
      "text/plain": [
       "<function __main__.get_values_non_numeric(fn, col_name)>"
      ]
     },
     "execution_count": 11,
     "metadata": {},
     "output_type": "execute_result"
    }
   ],
   "source": [
    "get_values_non_numeric"
   ]
  },
  {
   "cell_type": "code",
   "execution_count": 45,
   "metadata": {},
   "outputs": [
    {
     "name": "stdout",
     "output_type": "stream",
     "text": [
      "NAME_TYPE_SUITE ['Group of people', 'Unaccompanied', 'Spouse, partner', 'Other_A', 'Children', 'Family', 'Other_B']\n",
      "EMERGENCYSTATE_MODE ['Yes', 'No']\n",
      "NAME_EDUCATION_TYPE ['Lower secondary', 'Academic degree', 'Incomplete higher', 'Secondary / secondary special', 'Higher education']\n",
      "FLAG_OWN_REALTY ['N', 'Y']\n",
      "FLAG_OWN_CAR ['N', 'Y']\n",
      "NAME_INCOME_TYPE ['Commercial associate', 'Pensioner', 'Student', 'Unemployed', 'Businessman', 'State servant', 'Maternity leave', 'Working']\n",
      "NAME_HOUSING_TYPE ['House / apartment', 'Office apartment', 'Co-op apartment', 'Municipal apartment', 'Rented apartment', 'With parents']\n",
      "NAME_CONTRACT_TYPE ['Revolving loans', 'Cash loans']\n",
      "FONDKAPREMONT_MODE ['reg oper spec account', 'not specified', 'reg oper account', 'org spec account']\n",
      "CODE_GENDER ['XNA', 'F', 'M']\n",
      "ORGANIZATION_TYPE ['Construction', 'Trade: type 3', 'Industry: type 3', 'Industry: type 2', 'Industry: type 5', 'Business Entity Type 3', 'Industry: type 4', 'Realtor', 'Mobile', 'Trade: type 7', 'Transport: type 3', 'Agriculture', 'Police', 'Security Ministries', 'Industry: type 8', 'Industry: type 10', 'Self-employed', 'XNA', 'Restaurant', 'Telecom', 'Hotel', 'Trade: type 6', 'Culture', 'Postal', 'Bank', 'Transport: type 1', 'Electricity', 'Other', 'Transport: type 2', 'Religion', 'School', 'Kindergarten', 'Legal Services', 'Transport: type 4', 'Insurance', 'Services', 'Industry: type 6', 'Business Entity Type 2', 'Industry: type 7', 'Trade: type 2', 'Industry: type 1', 'Trade: type 5', 'Cleaning', 'Military', 'Industry: type 9', 'Trade: type 4', 'Advertising', 'Industry: type 12', 'Security', 'Housing']\n",
      "HOUSETYPE_MODE ['specific housing', 'block of flats', 'terraced house']\n",
      "WALLSMATERIAL_MODE ['Stone, brick', 'Monolithic', 'Others', 'Panel', 'Mixed', 'Wooden', 'Block']\n",
      "WEEKDAY_APPR_PROCESS_START ['SATURDAY', 'TUESDAY', 'SUNDAY', 'FRIDAY', 'WEDNESDAY', 'THURSDAY', 'MONDAY']\n",
      "NAME_FAMILY_STATUS ['Widow', 'Separated', 'Unknown', 'Single / not married', 'Civil marriage', 'Married']\n",
      "OCCUPATION_TYPE ['Sales staff', 'Security staff', 'Low-skill Laborers', 'Cooking staff', 'Managers', 'Laborers', 'Private service staff', 'Cleaning staff', 'High skill tech staff', 'HR staff', 'IT staff', 'Waiters/barmen staff', 'Core staff', 'Accountants', 'Secretaries', 'Drivers', 'Medicine staff', 'Realty agents']\n"
     ]
    }
   ],
   "source": [
    "for k, v in stats.items():\n",
    "    if v.dtype == \"str\":\n",
    "        print(k, list(v.levels)[:50])"
   ]
  },
  {
   "cell_type": "code",
   "execution_count": 16,
   "metadata": {},
   "outputs": [],
   "source": [
    "from decimal import Decimal\n",
    "\n"
   ]
  },
  {
   "cell_type": "code",
   "execution_count": 17,
   "metadata": {},
   "outputs": [],
   "source": [
    "def test_decimal_float_difference(fn, colname, max_diff=10e-15):\n",
    "    cols = get_col_names(fn)\n",
    "    col_pos = cols.index(colname)\n",
    "    with open(fn, \"r\") as fp:\n",
    "        rdr = csv.reader(fp, quotechar='\"', delimiter=',')\n",
    "        next(rdr)  # skip header\n",
    "        for line in rdr:\n",
    "            if abs(Decimal(line[col_pos]) - Decimal(str(float(line[col_pos])))) > max_diff:\n",
    "                return False\n",
    "    return True\n",
    "\n",
    "def test_int_float_equiv(fn, colname, max_diff=10e-7):\n",
    "    cols = get_col_names(fn)\n",
    "    col_pos = cols.index(colname)\n",
    "    with open(fn, \"r\") as fp:\n",
    "        rdr = csv.reader(fp, quotechar='\"', delimiter=',')\n",
    "        next(rdr)  # skip header\n",
    "        for line in rdr:\n",
    "            if not line[col_pos]:\n",
    "                continue\n",
    "            if abs(Decimal(int(float(line[col_pos]))) - Decimal(line[col_pos])) > max_diff:\n",
    "                return False\n",
    "    return True"
   ]
  },
  {
   "cell_type": "code",
   "execution_count": 63,
   "metadata": {},
   "outputs": [
    {
     "name": "stdout",
     "output_type": "stream",
     "text": [
      "days_first_drawing True\n",
      "days_first_due True\n",
      "days_last_due_1st_version True\n",
      "days_last_due True\n",
      "days_termination True\n",
      "nflag_insured_on_approval True\n",
      "nflag_last_appl_in_day True\n"
     ]
    }
   ],
   "source": [
    "test_cols = [\"days_first_drawing\", \"days_first_due\", \"days_last_due_1st_version\", \"days_last_due\", \"days_termination\", \"nflag_insured_on_approval\", \"nflag_last_appl_in_day\"]\n",
    "#test_cols = ['cnt_drawings_atm_current']\n",
    "for col in test_cols:\n",
    "    print(col, test_int_float_equiv(prev_app_fn, col.upper()))"
   ]
  },
  {
   "cell_type": "code",
   "execution_count": 2,
   "metadata": {},
   "outputs": [
    {
     "ename": "SyntaxError",
     "evalue": "can't assign to literal (<ipython-input-2-a0aef98f5518>, line 1)",
     "output_type": "error",
     "traceback": [
      "\u001b[1;36m  File \u001b[1;32m\"<ipython-input-2-a0aef98f5518>\"\u001b[1;36m, line \u001b[1;32m1\u001b[0m\n\u001b[1;33m    1=2\u001b[0m\n\u001b[1;37m       ^\u001b[0m\n\u001b[1;31mSyntaxError\u001b[0m\u001b[1;31m:\u001b[0m can't assign to literal\n"
     ]
    }
   ],
   "source": [
    "1=2"
   ]
  },
  {
   "cell_type": "code",
   "execution_count": null,
   "metadata": {},
   "outputs": [],
   "source": [
    "burea_stats = "
   ]
  }
 ],
 "metadata": {
  "kernelspec": {
   "display_name": "Python 3",
   "language": "python",
   "name": "python3"
  },
  "language_info": {
   "codemirror_mode": {
    "name": "ipython",
    "version": 3
   },
   "file_extension": ".py",
   "mimetype": "text/x-python",
   "name": "python",
   "nbconvert_exporter": "python",
   "pygments_lexer": "ipython3",
   "version": "3.5.5"
  }
 },
 "nbformat": 4,
 "nbformat_minor": 2
}
