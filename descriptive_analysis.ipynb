{
 "cells": [
  {
   "cell_type": "code",
   "execution_count": 1,
   "metadata": {},
   "outputs": [],
   "source": [
    "import pandas as pd\n",
    "from sqlalchemy import create_engine\n",
    "import numpy as np\n",
    "from homeloans.tables import Application,PreviousApplication\n",
    "from homeloans.tables import get_session\n",
    "from homeloans.tables import initialise_database"
   ]
  },
  {
   "cell_type": "code",
   "execution_count": 2,
   "metadata": {},
   "outputs": [
    {
     "name": "stdout",
     "output_type": "stream",
     "text": [
      "2018-07-02 02:05:23,672 INFO sqlalchemy.engine.base.Engine SELECT CAST('test plain returns' AS VARCHAR(60)) AS anon_1\n",
      "2018-07-02 02:05:23,677 INFO sqlalchemy.engine.base.Engine ()\n",
      "2018-07-02 02:05:23,679 INFO sqlalchemy.engine.base.Engine SELECT CAST('test unicode returns' AS VARCHAR(60)) AS anon_1\n",
      "2018-07-02 02:05:23,680 INFO sqlalchemy.engine.base.Engine ()\n",
      "2018-07-02 02:05:23,681 INFO sqlalchemy.engine.base.Engine PRAGMA table_info(\"Bureau\")\n",
      "2018-07-02 02:05:23,682 INFO sqlalchemy.engine.base.Engine ()\n",
      "2018-07-02 02:05:23,686 INFO sqlalchemy.engine.base.Engine PRAGMA table_info(\"PreviousApplication\")\n",
      "2018-07-02 02:05:23,687 INFO sqlalchemy.engine.base.Engine ()\n",
      "2018-07-02 02:05:23,689 INFO sqlalchemy.engine.base.Engine PRAGMA table_info(\"CashBalance\")\n",
      "2018-07-02 02:05:23,690 INFO sqlalchemy.engine.base.Engine ()\n",
      "2018-07-02 02:05:23,691 INFO sqlalchemy.engine.base.Engine PRAGMA table_info(\"Application\")\n",
      "2018-07-02 02:05:23,692 INFO sqlalchemy.engine.base.Engine ()\n",
      "2018-07-02 02:05:23,695 INFO sqlalchemy.engine.base.Engine PRAGMA table_info(\"InstalmentPayments\")\n",
      "2018-07-02 02:05:23,696 INFO sqlalchemy.engine.base.Engine ()\n",
      "2018-07-02 02:05:23,697 INFO sqlalchemy.engine.base.Engine PRAGMA table_info(\"BureauBalance\")\n",
      "2018-07-02 02:05:23,698 INFO sqlalchemy.engine.base.Engine ()\n",
      "2018-07-02 02:05:23,699 INFO sqlalchemy.engine.base.Engine PRAGMA table_info(\"CreditCardBalance\")\n",
      "2018-07-02 02:05:23,700 INFO sqlalchemy.engine.base.Engine ()\n"
     ]
    }
   ],
   "source": [
    "db_fn = \"H:\\\\kaggle\\\\home_loans\\\\db\\\\home_loans.db\"\n",
    "initialise_database(db_fn, drop=False)\n",
    "session = get_session()"
   ]
  },
  {
   "cell_type": "code",
   "execution_count": 3,
   "metadata": {},
   "outputs": [],
   "source": [
    "qry = session.query(Application)"
   ]
  },
  {
   "cell_type": "code",
   "execution_count": 6,
   "metadata": {},
   "outputs": [
    {
     "name": "stdout",
     "output_type": "stream",
     "text": [
      "2018-07-02 02:06:41,944 INFO sqlalchemy.engine.base.Engine SELECT \"Application\".sk_id_curr AS \"Application_sk_id_curr\", \"Application\".target AS \"Application_target\", \"Application\".name_contract_type AS \"Application_name_contract_type\", \"Application\".code_gender AS \"Application_code_gender\", \"Application\".flag_own_car AS \"Application_flag_own_car\", \"Application\".flag_own_realty AS \"Application_flag_own_realty\", \"Application\".cnt_children AS \"Application_cnt_children\", \"Application\".amt_income_total AS \"Application_amt_income_total\", \"Application\".amt_credit AS \"Application_amt_credit\", \"Application\".amt_annuity AS \"Application_amt_annuity\", \"Application\".amt_goods_price AS \"Application_amt_goods_price\", \"Application\".name_type_suite AS \"Application_name_type_suite\", \"Application\".name_income_type AS \"Application_name_income_type\", \"Application\".name_education_type AS \"Application_name_education_type\", \"Application\".name_family_status AS \"Application_name_family_status\", \"Application\".name_housing_type AS \"Application_name_housing_type\", \"Application\".region_population_relative AS \"Application_region_population_relative\", \"Application\".days_birth AS \"Application_days_birth\", \"Application\".days_employed AS \"Application_days_employed\", \"Application\".days_registration AS \"Application_days_registration\", \"Application\".days_id_publish AS \"Application_days_id_publish\", \"Application\".own_car_age AS \"Application_own_car_age\", \"Application\".flag_mobil AS \"Application_flag_mobil\", \"Application\".flag_emp_phone AS \"Application_flag_emp_phone\", \"Application\".flag_work_phone AS \"Application_flag_work_phone\", \"Application\".flag_cont_mobile AS \"Application_flag_cont_mobile\", \"Application\".flag_phone AS \"Application_flag_phone\", \"Application\".flag_email AS \"Application_flag_email\", \"Application\".occupation_type AS \"Application_occupation_type\", \"Application\".cnt_fam_members AS \"Application_cnt_fam_members\", \"Application\".region_rating_client AS \"Application_region_rating_client\", \"Application\".region_rating_client_w_city AS \"Application_region_rating_client_w_city\", \"Application\".weekday_appr_process_start AS \"Application_weekday_appr_process_start\", \"Application\".hour_appr_process_start AS \"Application_hour_appr_process_start\", \"Application\".reg_region_not_live_region AS \"Application_reg_region_not_live_region\", \"Application\".reg_region_not_work_region AS \"Application_reg_region_not_work_region\", \"Application\".live_region_not_work_region AS \"Application_live_region_not_work_region\", \"Application\".reg_city_not_live_city AS \"Application_reg_city_not_live_city\", \"Application\".reg_city_not_work_city AS \"Application_reg_city_not_work_city\", \"Application\".live_city_not_work_city AS \"Application_live_city_not_work_city\", \"Application\".organization_type AS \"Application_organization_type\", \"Application\".ext_source_1 AS \"Application_ext_source_1\", \"Application\".ext_source_2 AS \"Application_ext_source_2\", \"Application\".ext_source_3 AS \"Application_ext_source_3\", \"Application\".apartments_avg AS \"Application_apartments_avg\", \"Application\".basementarea_avg AS \"Application_basementarea_avg\", \"Application\".years_beginexpluatation_avg AS \"Application_years_beginexpluatation_avg\", \"Application\".years_build_avg AS \"Application_years_build_avg\", \"Application\".commonarea_avg AS \"Application_commonarea_avg\", \"Application\".elevators_avg AS \"Application_elevators_avg\", \"Application\".entrances_avg AS \"Application_entrances_avg\", \"Application\".floorsmax_avg AS \"Application_floorsmax_avg\", \"Application\".floorsmin_avg AS \"Application_floorsmin_avg\", \"Application\".landarea_avg AS \"Application_landarea_avg\", \"Application\".livingapartments_avg AS \"Application_livingapartments_avg\", \"Application\".livingarea_avg AS \"Application_livingarea_avg\", \"Application\".nonlivingapartments_avg AS \"Application_nonlivingapartments_avg\", \"Application\".nonlivingarea_avg AS \"Application_nonlivingarea_avg\", \"Application\".apartments_mode AS \"Application_apartments_mode\", \"Application\".basementarea_mode AS \"Application_basementarea_mode\", \"Application\".years_beginexpluatation_mode AS \"Application_years_beginexpluatation_mode\", \"Application\".years_build_mode AS \"Application_years_build_mode\", \"Application\".commonarea_mode AS \"Application_commonarea_mode\", \"Application\".elevators_mode AS \"Application_elevators_mode\", \"Application\".entrances_mode AS \"Application_entrances_mode\", \"Application\".floorsmax_mode AS \"Application_floorsmax_mode\", \"Application\".floorsmin_mode AS \"Application_floorsmin_mode\", \"Application\".landarea_mode AS \"Application_landarea_mode\", \"Application\".livingapartments_mode AS \"Application_livingapartments_mode\", \"Application\".livingarea_mode AS \"Application_livingarea_mode\", \"Application\".nonlivingapartments_mode AS \"Application_nonlivingapartments_mode\", \"Application\".nonlivingarea_mode AS \"Application_nonlivingarea_mode\", \"Application\".apartments_medi AS \"Application_apartments_medi\", \"Application\".basementarea_medi AS \"Application_basementarea_medi\", \"Application\".years_beginexpluatation_medi AS \"Application_years_beginexpluatation_medi\", \"Application\".years_build_medi AS \"Application_years_build_medi\", \"Application\".commonarea_medi AS \"Application_commonarea_medi\", \"Application\".elevators_medi AS \"Application_elevators_medi\", \"Application\".entrances_medi AS \"Application_entrances_medi\", \"Application\".floorsmax_medi AS \"Application_floorsmax_medi\", \"Application\".floorsmin_medi AS \"Application_floorsmin_medi\", \"Application\".landarea_medi AS \"Application_landarea_medi\", \"Application\".livingapartments_medi AS \"Application_livingapartments_medi\", \"Application\".livingarea_medi AS \"Application_livingarea_medi\", \"Application\".nonlivingapartments_medi AS \"Application_nonlivingapartments_medi\", \"Application\".nonlivingarea_medi AS \"Application_nonlivingarea_medi\", \"Application\".fondkapremont_mode AS \"Application_fondkapremont_mode\", \"Application\".housetype_mode AS \"Application_housetype_mode\", \"Application\".totalarea_mode AS \"Application_totalarea_mode\", \"Application\".wallsmaterial_mode AS \"Application_wallsmaterial_mode\", \"Application\".emergencystate_mode AS \"Application_emergencystate_mode\", \"Application\".obs_30_cnt_social_circle AS \"Application_obs_30_cnt_social_circle\", \"Application\".def_30_cnt_social_circle AS \"Application_def_30_cnt_social_circle\", \"Application\".obs_60_cnt_social_circle AS \"Application_obs_60_cnt_social_circle\", \"Application\".def_60_cnt_social_circle AS \"Application_def_60_cnt_social_circle\", \"Application\".days_last_phone_change AS \"Application_days_last_phone_change\", \"Application\".flag_document_2 AS \"Application_flag_document_2\", \"Application\".flag_document_3 AS \"Application_flag_document_3\", \"Application\".flag_document_4 AS \"Application_flag_document_4\", \"Application\".flag_document_5 AS \"Application_flag_document_5\", \"Application\".flag_document_6 AS \"Application_flag_document_6\", \"Application\".flag_document_7 AS \"Application_flag_document_7\", \"Application\".flag_document_8 AS \"Application_flag_document_8\", \"Application\".flag_document_9 AS \"Application_flag_document_9\", \"Application\".flag_document_10 AS \"Application_flag_document_10\", \"Application\".flag_document_11 AS \"Application_flag_document_11\", \"Application\".flag_document_12 AS \"Application_flag_document_12\", \"Application\".flag_document_13 AS \"Application_flag_document_13\", \"Application\".flag_document_14 AS \"Application_flag_document_14\", \"Application\".flag_document_15 AS \"Application_flag_document_15\", \"Application\".flag_document_16 AS \"Application_flag_document_16\", \"Application\".flag_document_17 AS \"Application_flag_document_17\", \"Application\".flag_document_18 AS \"Application_flag_document_18\", \"Application\".flag_document_19 AS \"Application_flag_document_19\", \"Application\".flag_document_20 AS \"Application_flag_document_20\", \"Application\".flag_document_21 AS \"Application_flag_document_21\", \"Application\".amt_req_credit_bureau_hour AS \"Application_amt_req_credit_bureau_hour\", \"Application\".amt_req_credit_bureau_day AS \"Application_amt_req_credit_bureau_day\", \"Application\".amt_req_credit_bureau_week AS \"Application_amt_req_credit_bureau_week\", \"Application\".amt_req_credit_bureau_mon AS \"Application_amt_req_credit_bureau_mon\", \"Application\".amt_req_credit_bureau_qrt AS \"Application_amt_req_credit_bureau_qrt\", \"Application\".amt_req_credit_bureau_year AS \"Application_amt_req_credit_bureau_year\" \n",
      "FROM \"Application\"\n",
      "2018-07-02 02:06:41,945 INFO sqlalchemy.engine.base.Engine ()\n"
     ]
    }
   ],
   "source": [
    "for entry in qry:\n",
    "    my_entry = entry\n",
    "    break"
   ]
  },
  {
   "cell_type": "code",
   "execution_count": 20,
   "metadata": {},
   "outputs": [
    {
     "data": {
      "text/plain": [
       "[(-28, 'X'),\n",
       " (-27, 'X'),\n",
       " (-26, 'X'),\n",
       " (-25, 'X'),\n",
       " (-24, 'X'),\n",
       " (-23, '0'),\n",
       " (-22, '0'),\n",
       " (-21, 'X'),\n",
       " (-20, 'X'),\n",
       " (-19, '0'),\n",
       " (-18, 'C'),\n",
       " (-17, 'C'),\n",
       " (-16, 'C'),\n",
       " (-15, 'C'),\n",
       " (-14, 'C'),\n",
       " (-13, 'C'),\n",
       " (-12, 'C'),\n",
       " (-11, 'C'),\n",
       " (-10, 'C'),\n",
       " (-9, 'C'),\n",
       " (-8, 'C'),\n",
       " (-7, 'C'),\n",
       " (-6, 'C'),\n",
       " (-5, 'C'),\n",
       " (-4, 'C'),\n",
       " (-3, 'C'),\n",
       " (-2, 'C'),\n",
       " (-1, 'C'),\n",
       " (0, 'C')]"
      ]
     },
     "execution_count": 20,
     "metadata": {},
     "output_type": "execute_result"
    }
   ],
   "source": [
    "[(x.months_balance, x.status) for x in my_entry.bureau_entries[0].balances]"
   ]
  },
  {
   "cell_type": "code",
   "execution_count": 24,
   "metadata": {},
   "outputs": [
    {
     "name": "stdout",
     "output_type": "stream",
     "text": [
      "2018-07-02 02:15:52,920 INFO sqlalchemy.engine.base.Engine SELECT \"Application\".sk_id_curr, \"Application\".target, \"Application\".name_contract_type, \"Application\".code_gender, \"Application\".flag_own_car, \"Application\".flag_own_realty, \"Application\".cnt_children, \"Application\".amt_income_total, \"Application\".amt_credit, \"Application\".amt_annuity, \"Application\".amt_goods_price, \"Application\".name_type_suite, \"Application\".name_income_type, \"Application\".name_education_type, \"Application\".name_family_status, \"Application\".name_housing_type, \"Application\".region_population_relative, \"Application\".days_birth, \"Application\".days_employed, \"Application\".days_registration, \"Application\".days_id_publish, \"Application\".own_car_age, \"Application\".flag_mobil, \"Application\".flag_emp_phone, \"Application\".flag_work_phone, \"Application\".flag_cont_mobile, \"Application\".flag_phone, \"Application\".flag_email, \"Application\".occupation_type, \"Application\".cnt_fam_members, \"Application\".region_rating_client, \"Application\".region_rating_client_w_city, \"Application\".weekday_appr_process_start, \"Application\".hour_appr_process_start, \"Application\".reg_region_not_live_region, \"Application\".reg_region_not_work_region, \"Application\".live_region_not_work_region, \"Application\".reg_city_not_live_city, \"Application\".reg_city_not_work_city, \"Application\".live_city_not_work_city, \"Application\".organization_type, \"Application\".ext_source_1, \"Application\".ext_source_2, \"Application\".ext_source_3, \"Application\".apartments_avg, \"Application\".basementarea_avg, \"Application\".years_beginexpluatation_avg, \"Application\".years_build_avg, \"Application\".commonarea_avg, \"Application\".elevators_avg, \"Application\".entrances_avg, \"Application\".floorsmax_avg, \"Application\".floorsmin_avg, \"Application\".landarea_avg, \"Application\".livingapartments_avg, \"Application\".livingarea_avg, \"Application\".nonlivingapartments_avg, \"Application\".nonlivingarea_avg, \"Application\".apartments_mode, \"Application\".basementarea_mode, \"Application\".years_beginexpluatation_mode, \"Application\".years_build_mode, \"Application\".commonarea_mode, \"Application\".elevators_mode, \"Application\".entrances_mode, \"Application\".floorsmax_mode, \"Application\".floorsmin_mode, \"Application\".landarea_mode, \"Application\".livingapartments_mode, \"Application\".livingarea_mode, \"Application\".nonlivingapartments_mode, \"Application\".nonlivingarea_mode, \"Application\".apartments_medi, \"Application\".basementarea_medi, \"Application\".years_beginexpluatation_medi, \"Application\".years_build_medi, \"Application\".commonarea_medi, \"Application\".elevators_medi, \"Application\".entrances_medi, \"Application\".floorsmax_medi, \"Application\".floorsmin_medi, \"Application\".landarea_medi, \"Application\".livingapartments_medi, \"Application\".livingarea_medi, \"Application\".nonlivingapartments_medi, \"Application\".nonlivingarea_medi, \"Application\".fondkapremont_mode, \"Application\".housetype_mode, \"Application\".totalarea_mode, \"Application\".wallsmaterial_mode, \"Application\".emergencystate_mode, \"Application\".obs_30_cnt_social_circle, \"Application\".def_30_cnt_social_circle, \"Application\".obs_60_cnt_social_circle, \"Application\".def_60_cnt_social_circle, \"Application\".days_last_phone_change, \"Application\".flag_document_2, \"Application\".flag_document_3, \"Application\".flag_document_4, \"Application\".flag_document_5, \"Application\".flag_document_6, \"Application\".flag_document_7, \"Application\".flag_document_8, \"Application\".flag_document_9, \"Application\".flag_document_10, \"Application\".flag_document_11, \"Application\".flag_document_12, \"Application\".flag_document_13, \"Application\".flag_document_14, \"Application\".flag_document_15, \"Application\".flag_document_16, \"Application\".flag_document_17, \"Application\".flag_document_18, \"Application\".flag_document_19, \"Application\".flag_document_20, \"Application\".flag_document_21, \"Application\".amt_req_credit_bureau_hour, \"Application\".amt_req_credit_bureau_day, \"Application\".amt_req_credit_bureau_week, \"Application\".amt_req_credit_bureau_mon, \"Application\".amt_req_credit_bureau_qrt, \"Application\".amt_req_credit_bureau_year \n",
      "FROM \"Application\"\n",
      "2018-07-02 02:15:52,922 INFO sqlalchemy.engine.base.Engine ()\n"
     ]
    }
   ],
   "source": [
    "df = pd.read_sql(qry.statement, qry.session.bind)"
   ]
  },
  {
   "cell_type": "code",
   "execution_count": 71,
   "metadata": {},
   "outputs": [],
   "source": [
    "training = df[~df.target.isnull()]"
   ]
  },
  {
   "cell_type": "code",
   "execution_count": 72,
   "metadata": {},
   "outputs": [
    {
     "name": "stderr",
     "output_type": "stream",
     "text": [
      "F:\\envs\\homeloans\\lib\\site-packages\\ipykernel_launcher.py:6: SettingWithCopyWarning: \n",
      "A value is trying to be set on a copy of a slice from a DataFrame.\n",
      "Try using .loc[row_indexer,col_indexer] = value instead\n",
      "\n",
      "See the caveats in the documentation: http://pandas.pydata.org/pandas-docs/stable/indexing.html#indexing-view-versus-copy\n",
      "  \n"
     ]
    },
    {
     "name": "stdout",
     "output_type": "stream",
     "text": [
      "name_contract_type\n"
     ]
    },
    {
     "name": "stderr",
     "output_type": "stream",
     "text": [
      "F:\\envs\\homeloans\\lib\\site-packages\\ipykernel_launcher.py:4: SettingWithCopyWarning: \n",
      "A value is trying to be set on a copy of a slice from a DataFrame.\n",
      "Try using .loc[row_indexer,col_indexer] = value instead\n",
      "\n",
      "See the caveats in the documentation: http://pandas.pydata.org/pandas-docs/stable/indexing.html#indexing-view-versus-copy\n",
      "  after removing the cwd from sys.path.\n"
     ]
    },
    {
     "name": "stdout",
     "output_type": "stream",
     "text": [
      "code_gender\n",
      "name_type_suite\n",
      "name_income_type\n",
      "name_education_type\n",
      "name_family_status\n",
      "name_housing_type\n",
      "occupation_type\n",
      "weekday_appr_process_start\n",
      "organization_type\n",
      "fondkapremont_mode\n",
      "housetype_mode\n",
      "wallsmaterial_mode\n",
      "emergencystate_mode\n"
     ]
    }
   ],
   "source": [
    "for col in training:\n",
    "    if(training.dtypes[col] == \"object\"):\n",
    "        print(col)\n",
    "        training[col] = training[col].astype(\"category\")\n",
    "    if(training.dtypes[col] == \"float64\"):\n",
    "        training[col] = training[col].astype(\"float32\")"
   ]
  },
  {
   "cell_type": "code",
   "execution_count": 55,
   "metadata": {},
   "outputs": [],
   "source": [
    "tr_dummies = pd.get_dummies(training, drop_first=True)"
   ]
  },
  {
   "cell_type": "code",
   "execution_count": 56,
   "metadata": {},
   "outputs": [],
   "source": [
    "tr_labels = pd.Series(tr_dummies.target)"
   ]
  },
  {
   "cell_type": "code",
   "execution_count": 74,
   "metadata": {},
   "outputs": [],
   "source": [
    "#tr_dummies = tr_dummies.drop([\"sk_id_curr\", \"target\"], axis=1)\n",
    "tr_nodummy = training.drop([\"sk_id_curr\", \"target\"], axis=1)"
   ]
  },
  {
   "cell_type": "code",
   "execution_count": 81,
   "metadata": {},
   "outputs": [
    {
     "name": "stdout",
     "output_type": "stream",
     "text": [
      "Start training...\n",
      "[1]\tvalid_0's binary_logloss: 0.276137\n",
      "Training until validation scores don't improve for 5 rounds.\n",
      "[2]\tvalid_0's binary_logloss: 0.272914\n",
      "[3]\tvalid_0's binary_logloss: 0.270198\n",
      "[4]\tvalid_0's binary_logloss: 0.268089\n",
      "[5]\tvalid_0's binary_logloss: 0.266343\n",
      "[6]\tvalid_0's binary_logloss: 0.264736\n",
      "[7]\tvalid_0's binary_logloss: 0.263389\n",
      "[8]\tvalid_0's binary_logloss: 0.262278\n",
      "[9]\tvalid_0's binary_logloss: 0.261271\n",
      "[10]\tvalid_0's binary_logloss: 0.260341\n",
      "[11]\tvalid_0's binary_logloss: 0.2595\n",
      "[12]\tvalid_0's binary_logloss: 0.25872\n",
      "[13]\tvalid_0's binary_logloss: 0.258039\n",
      "[14]\tvalid_0's binary_logloss: 0.257334\n",
      "[15]\tvalid_0's binary_logloss: 0.25662\n",
      "[16]\tvalid_0's binary_logloss: 0.255944\n",
      "[17]\tvalid_0's binary_logloss: 0.255378\n",
      "[18]\tvalid_0's binary_logloss: 0.254895\n",
      "[19]\tvalid_0's binary_logloss: 0.254442\n",
      "[20]\tvalid_0's binary_logloss: 0.254046\n",
      "[21]\tvalid_0's binary_logloss: 0.253698\n",
      "[22]\tvalid_0's binary_logloss: 0.253338\n",
      "[23]\tvalid_0's binary_logloss: 0.253044\n",
      "[24]\tvalid_0's binary_logloss: 0.252783\n",
      "[25]\tvalid_0's binary_logloss: 0.252472\n",
      "[26]\tvalid_0's binary_logloss: 0.252157\n",
      "[27]\tvalid_0's binary_logloss: 0.25185\n",
      "[28]\tvalid_0's binary_logloss: 0.251537\n",
      "[29]\tvalid_0's binary_logloss: 0.25132\n",
      "[30]\tvalid_0's binary_logloss: 0.251133\n",
      "[31]\tvalid_0's binary_logloss: 0.250915\n",
      "[32]\tvalid_0's binary_logloss: 0.250689\n",
      "[33]\tvalid_0's binary_logloss: 0.250575\n",
      "[34]\tvalid_0's binary_logloss: 0.250355\n",
      "[35]\tvalid_0's binary_logloss: 0.250218\n",
      "[36]\tvalid_0's binary_logloss: 0.250003\n",
      "[37]\tvalid_0's binary_logloss: 0.249839\n",
      "[38]\tvalid_0's binary_logloss: 0.249712\n",
      "[39]\tvalid_0's binary_logloss: 0.249559\n",
      "[40]\tvalid_0's binary_logloss: 0.249453\n",
      "[41]\tvalid_0's binary_logloss: 0.24929\n",
      "[42]\tvalid_0's binary_logloss: 0.249198\n",
      "[43]\tvalid_0's binary_logloss: 0.249053\n",
      "[44]\tvalid_0's binary_logloss: 0.248955\n",
      "[45]\tvalid_0's binary_logloss: 0.248865\n",
      "[46]\tvalid_0's binary_logloss: 0.248764\n",
      "[47]\tvalid_0's binary_logloss: 0.248723\n",
      "[48]\tvalid_0's binary_logloss: 0.248653\n",
      "[49]\tvalid_0's binary_logloss: 0.248525\n",
      "[50]\tvalid_0's binary_logloss: 0.248448\n",
      "[51]\tvalid_0's binary_logloss: 0.248361\n",
      "[52]\tvalid_0's binary_logloss: 0.248284\n",
      "[53]\tvalid_0's binary_logloss: 0.248214\n",
      "[54]\tvalid_0's binary_logloss: 0.248164\n",
      "[55]\tvalid_0's binary_logloss: 0.248121\n",
      "[56]\tvalid_0's binary_logloss: 0.248062\n",
      "[57]\tvalid_0's binary_logloss: 0.247956\n",
      "[58]\tvalid_0's binary_logloss: 0.247899\n",
      "[59]\tvalid_0's binary_logloss: 0.247832\n",
      "[60]\tvalid_0's binary_logloss: 0.24778\n",
      "[61]\tvalid_0's binary_logloss: 0.247726\n",
      "[62]\tvalid_0's binary_logloss: 0.247687\n",
      "[63]\tvalid_0's binary_logloss: 0.247643\n",
      "[64]\tvalid_0's binary_logloss: 0.247607\n",
      "[65]\tvalid_0's binary_logloss: 0.247506\n",
      "[66]\tvalid_0's binary_logloss: 0.247424\n",
      "[67]\tvalid_0's binary_logloss: 0.247401\n",
      "[68]\tvalid_0's binary_logloss: 0.247347\n",
      "[69]\tvalid_0's binary_logloss: 0.247295\n",
      "[70]\tvalid_0's binary_logloss: 0.247283\n",
      "[71]\tvalid_0's binary_logloss: 0.247265\n",
      "[72]\tvalid_0's binary_logloss: 0.247219\n",
      "[73]\tvalid_0's binary_logloss: 0.247195\n",
      "[74]\tvalid_0's binary_logloss: 0.247118\n",
      "[75]\tvalid_0's binary_logloss: 0.247091\n",
      "[76]\tvalid_0's binary_logloss: 0.247065\n",
      "[77]\tvalid_0's binary_logloss: 0.247029\n",
      "[78]\tvalid_0's binary_logloss: 0.246999\n",
      "[79]\tvalid_0's binary_logloss: 0.246956\n",
      "[80]\tvalid_0's binary_logloss: 0.246934\n",
      "[81]\tvalid_0's binary_logloss: 0.246926\n",
      "[82]\tvalid_0's binary_logloss: 0.246893\n",
      "[83]\tvalid_0's binary_logloss: 0.246849\n",
      "[84]\tvalid_0's binary_logloss: 0.246835\n",
      "[85]\tvalid_0's binary_logloss: 0.246812\n",
      "[86]\tvalid_0's binary_logloss: 0.246784\n",
      "[87]\tvalid_0's binary_logloss: 0.246733\n",
      "[88]\tvalid_0's binary_logloss: 0.246718\n",
      "[89]\tvalid_0's binary_logloss: 0.246695\n",
      "[90]\tvalid_0's binary_logloss: 0.24666\n",
      "[91]\tvalid_0's binary_logloss: 0.246624\n",
      "[92]\tvalid_0's binary_logloss: 0.24661\n",
      "[93]\tvalid_0's binary_logloss: 0.24657\n",
      "[94]\tvalid_0's binary_logloss: 0.246546\n",
      "[95]\tvalid_0's binary_logloss: 0.246546\n",
      "[96]\tvalid_0's binary_logloss: 0.246521\n",
      "[97]\tvalid_0's binary_logloss: 0.246503\n",
      "[98]\tvalid_0's binary_logloss: 0.246515\n",
      "[99]\tvalid_0's binary_logloss: 0.246528\n",
      "[100]\tvalid_0's binary_logloss: 0.246528\n",
      "[101]\tvalid_0's binary_logloss: 0.246526\n",
      "[102]\tvalid_0's binary_logloss: 0.24655\n",
      "Early stopping, best iteration is:\n",
      "[97]\tvalid_0's binary_logloss: 0.246503\n",
      "Start predicting...\n",
      "AUC of prediction: 0.5079190764475054\n",
      "Feature importances: [16, 19, 1, 0, 1, 3, 58, 32, 38, 0, 4, 15, 13, 1, 4, 46, 28, 11, 25, 29, 0, 0, 8, 0, 0, 0, 14, 0, 0, 14, 3, 3, 0, 0, 0, 8, 0, 0, 121, 87, 74, 93, 1, 1, 1, 0, 1, 0, 2, 5, 1, 1, 1, 1, 0, 0, 0, 0, 4, 2, 0, 0, 0, 0, 0, 0, 1, 0, 0, 0, 3, 1, 1, 0, 0, 0, 0, 2, 0, 0, 0, 0, 1, 1, 0, 0, 2, 2, 0, 1, 12, 1, 6, 8, 0, 10, 0, 0, 0, 0, 0, 0, 0, 0, 0, 2, 0, 0, 5, 0, 5, 0, 0, 0, 0, 0, 0, 0, 12, 7]\n"
     ]
    },
    {
     "name": "stderr",
     "output_type": "stream",
     "text": [
      "F:\\envs\\homeloans\\lib\\site-packages\\sklearn\\preprocessing\\label.py:151: DeprecationWarning: The truth value of an empty array is ambiguous. Returning False, but in future this will result in an error. Use `array.size > 0` to check that an array is not empty.\n",
      "  if diff:\n"
     ]
    }
   ],
   "source": [
    "import lightgbm as lgb\n",
    "import pandas as pd\n",
    "from sklearn.metrics import roc_auc_score\n",
    "from sklearn.model_selection import GridSearchCV\n",
    "from sklearn.model_selection import train_test_split\n",
    "\n",
    "X_train, X_test, y_train, y_test = train_test_split(tr_nodummy, tr_labels, test_size=0.1, random_state=42, stratify=tr_labels)\n",
    "\n",
    "\n",
    "print('Start training...')\n",
    "# train\n",
    "gbm = lgb.LGBMClassifier(task=\"train\", num_leaves=10,\n",
    "                         learning_rate=0.1,\n",
    "                         n_estimators=209)\n",
    "gbm.fit(X_train, y_train,\n",
    "        eval_set=[(X_test, y_test)],\n",
    "        eval_metric='binary_logloss',\n",
    "        early_stopping_rounds=5)\n",
    "\n",
    "print('Start predicting...')\n",
    "# predict\n",
    "y_pred = gbm.predict(X_train, num_iteration=gbm.best_iteration_)\n",
    "# eval\n",
    "print('AUC of prediction:', roc_auc_score(y_train, y_pred))\n",
    "\n",
    "# feature importances\n",
    "print('Feature importances:', list(gbm.feature_importances_))\n"
   ]
  },
  {
   "cell_type": "code",
   "execution_count": 51,
   "metadata": {},
   "outputs": [
    {
     "data": {
      "text/plain": [
       "1         1.0\n",
       "2         0.0\n",
       "3         0.0\n",
       "5         0.0\n",
       "6         0.0\n",
       "7         0.0\n",
       "8         0.0\n",
       "9         0.0\n",
       "10        0.0\n",
       "11        0.0\n",
       "13        0.0\n",
       "14        0.0\n",
       "15        0.0\n",
       "16        0.0\n",
       "17        0.0\n",
       "18        0.0\n",
       "19        0.0\n",
       "20        0.0\n",
       "21        0.0\n",
       "22        0.0\n",
       "23        0.0\n",
       "24        0.0\n",
       "25        0.0\n",
       "26        0.0\n",
       "28        0.0\n",
       "29        0.0\n",
       "30        1.0\n",
       "31        0.0\n",
       "32        0.0\n",
       "33        0.0\n",
       "         ... \n",
       "356224    1.0\n",
       "356225    0.0\n",
       "356226    0.0\n",
       "356227    0.0\n",
       "356228    0.0\n",
       "356229    0.0\n",
       "356230    0.0\n",
       "356231    0.0\n",
       "356232    1.0\n",
       "356233    0.0\n",
       "356234    0.0\n",
       "356235    0.0\n",
       "356236    0.0\n",
       "356237    0.0\n",
       "356238    0.0\n",
       "356239    0.0\n",
       "356240    0.0\n",
       "356241    0.0\n",
       "356242    0.0\n",
       "356243    0.0\n",
       "356244    0.0\n",
       "356245    0.0\n",
       "356246    0.0\n",
       "356247    0.0\n",
       "356248    0.0\n",
       "356250    0.0\n",
       "356251    0.0\n",
       "356252    0.0\n",
       "356253    1.0\n",
       "356254    0.0\n",
       "Name: target, Length: 307511, dtype: float64"
      ]
     },
     "execution_count": 51,
     "metadata": {},
     "output_type": "execute_result"
    }
   ],
   "source": [
    "tr_labels"
   ]
  },
  {
   "cell_type": "code",
   "execution_count": null,
   "metadata": {},
   "outputs": [],
   "source": []
  }
 ],
 "metadata": {
  "kernelspec": {
   "display_name": "Python 3",
   "language": "python",
   "name": "python3"
  },
  "language_info": {
   "codemirror_mode": {
    "name": "ipython",
    "version": 3
   },
   "file_extension": ".py",
   "mimetype": "text/x-python",
   "name": "python",
   "nbconvert_exporter": "python",
   "pygments_lexer": "ipython3",
   "version": "3.5.5"
  }
 },
 "nbformat": 4,
 "nbformat_minor": 2
}
